{
 "cells": [
  {
   "cell_type": "markdown",
   "metadata": {},
   "source": [
    "## <center> QUINE-TWEANN </center>"
   ]
  },
  {
   "cell_type": "markdown",
   "metadata": {},
   "source": [
    "### Basic Python Quine"
   ]
  },
  {
   "cell_type": "code",
   "execution_count": 32,
   "metadata": {},
   "outputs": [
    {
     "name": "stdout",
     "output_type": "stream",
     "text": [
      "c = []\n",
      "c.append('c = []')\n",
      "c.append('f = lambda k: \"c.append(\" + repr(k) + \")\"')\n",
      "c.append('print(c[0])')\n",
      "c.append('for line in c[0:]:')\n",
      "c.append('\\tprint(f(line))')\n",
      "c.append('for line in c[1:]:')\n",
      "c.append('\\tprint(line)')\n",
      "f = lambda k: \"c.append(\" + repr(k) + \")\"\n",
      "print(c[0])\n",
      "for line in c[0:]:\n",
      "\tprint(f(line))\n",
      "for line in c[1:]:\n",
      "\tprint(line)\n"
     ]
    }
   ],
   "source": [
    "c = []\n",
    "c.append('c = []')\n",
    "c.append('f = lambda k: \"c.append(\" + repr(k) + \")\"')\n",
    "c.append('print(c[0])')\n",
    "c.append('for line in c[0:]:')\n",
    "c.append('\\tprint(f(line))')\n",
    "c.append('for line in c[1:]:')\n",
    "c.append('\\tprint(line)')\n",
    "f = lambda k: \"c.append(\" + repr(k) + \")\"\n",
    "print(c[0])\n",
    "for line in c[0:]:\n",
    "    print(f(line))\n",
    "for line in c[1:]:\n",
    "    print(line)"
   ]
  },
  {
   "cell_type": "markdown",
   "metadata": {},
   "source": [
    "### File Mode Quine"
   ]
  },
  {
   "cell_type": "code",
   "execution_count": 45,
   "metadata": {},
   "outputs": [],
   "source": [
    "c = []\n",
    "c.append('c = []')\n",
    "c.append('file = open(\"NNQ.txt\",\"w\")')\n",
    "c.append('f = lambda k: \"c.append(\" + repr(k) + \")\"')\n",
    "c.append('file.write(c[0] + \"\\\\n\")')\n",
    "c.append('for line in c[0:]:')\n",
    "c.append('\\tfile.write(f(line) + \"\\\\n\")')\n",
    "c.append('for line in c[1:]:')\n",
    "c.append('\\tfile.write(line + \"\\\\n\")')\n",
    "c.append('file.close()')\n",
    "file = open(\"NNQ.txt\",\"w\")\n",
    "f = lambda k: \"c.append(\" + repr(k) + \")\"\n",
    "file.write(c[0] + \"\\n\")\n",
    "for line in c[0:]:\n",
    "    file.write(f(line) + \"\\n\")\n",
    "for line in c[1:]:\n",
    "    file.write(line + \"\\n\")\n",
    "file.close()"
   ]
  },
  {
   "cell_type": "code",
   "execution_count": 49,
   "metadata": {},
   "outputs": [],
   "source": [
    "! python3 NNQ.txt"
   ]
  },
  {
   "cell_type": "markdown",
   "metadata": {},
   "source": [
    "## Further Plan\n",
    "Quine represents the Genes for developing the Brain\n",
    "* Each cycle replicates  Indirect Encoding of Topology and Weight\n",
    "* Evolves network on data using Semi-supervised  Learning\n",
    "* Encodes evolved network for next cycle\n",
    "* Crossover between Quines"
   ]
  },
  {
   "cell_type": "markdown",
   "metadata": {},
   "source": [
    "### GEP encoding of NN\n",
    "\n",
    "* Connection based - Adjacency matrix\n",
    "* Tree based - GP tree of weight and processing nodes\n",
    "* Node based - \n",
    "* Layer based -\n",
    "* Pathway based - list of paths from i/p to o/p\n",
    "* NEAT based -\n",
    "* Indirect -\n",
    "    * Lindenmayer systems\n",
    "    * Matrix rewriting\n",
    "    * Cellular encoding\n",
    "    * Cellular graph grammar"
   ]
  },
  {
   "cell_type": "code",
   "execution_count": null,
   "metadata": {},
   "outputs": [],
   "source": []
  }
 ],
 "metadata": {
  "kernelspec": {
   "display_name": "Python 3",
   "language": "python",
   "name": "python3"
  },
  "language_info": {
   "codemirror_mode": {
    "name": "ipython",
    "version": 3
   },
   "file_extension": ".py",
   "mimetype": "text/x-python",
   "name": "python",
   "nbconvert_exporter": "python",
   "pygments_lexer": "ipython3",
   "version": "3.5.2"
  }
 },
 "nbformat": 4,
 "nbformat_minor": 2
}
