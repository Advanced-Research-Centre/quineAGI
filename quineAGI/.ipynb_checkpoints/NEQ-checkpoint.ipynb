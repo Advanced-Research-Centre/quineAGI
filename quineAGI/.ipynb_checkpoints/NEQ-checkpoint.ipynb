{
 "cells": [
  {
   "cell_type": "markdown",
   "metadata": {},
   "source": [
    "## <center> QUINE-TWEANN </center>"
   ]
  },
  {
   "cell_type": "markdown",
   "metadata": {},
   "source": [
    "### Basic Python Quine"
   ]
  },
  {
   "cell_type": "code",
   "execution_count": 32,
   "metadata": {},
   "outputs": [
    {
     "name": "stdout",
     "output_type": "stream",
     "text": [
      "c = []\n",
      "c.append('c = []')\n",
      "c.append('f = lambda k: \"c.append(\" + repr(k) + \")\"')\n",
      "c.append('print(c[0])')\n",
      "c.append('for line in c[0:]:')\n",
      "c.append('\\tprint(f(line))')\n",
      "c.append('for line in c[1:]:')\n",
      "c.append('\\tprint(line)')\n",
      "f = lambda k: \"c.append(\" + repr(k) + \")\"\n",
      "print(c[0])\n",
      "for line in c[0:]:\n",
      "\tprint(f(line))\n",
      "for line in c[1:]:\n",
      "\tprint(line)\n"
     ]
    }
   ],
   "source": [
    "c = []\n",
    "c.append('c = []')\n",
    "c.append('f = lambda k: \"c.append(\" + repr(k) + \")\"')\n",
    "c.append('print(c[0])')\n",
    "c.append('for line in c[0:]:')\n",
    "c.append('\\tprint(f(line))')\n",
    "c.append('for line in c[1:]:')\n",
    "c.append('\\tprint(line)')\n",
    "f = lambda k: \"c.append(\" + repr(k) + \")\"\n",
    "print(c[0])\n",
    "for line in c[0:]:\n",
    "    print(f(line))\n",
    "for line in c[1:]:\n",
    "    print(line)"
   ]
  },
  {
   "cell_type": "markdown",
   "metadata": {},
   "source": [
    "### File Mode Quine"
   ]
  },
  {
   "cell_type": "code",
   "execution_count": 45,
   "metadata": {},
   "outputs": [],
   "source": [
    "c = []\n",
    "c.append('c = []')\n",
    "c.append('file = open(\"NNQ.txt\",\"w\")')\n",
    "c.append('f = lambda k: \"c.append(\" + repr(k) + \")\"')\n",
    "c.append('file.write(c[0] + \"\\\\n\")')\n",
    "c.append('for line in c[0:]:')\n",
    "c.append('\\tfile.write(f(line) + \"\\\\n\")')\n",
    "c.append('for line in c[1:]:')\n",
    "c.append('\\tfile.write(line + \"\\\\n\")')\n",
    "c.append('file.close()')\n",
    "file = open(\"NNQ.txt\",\"w\")\n",
    "f = lambda k: \"c.append(\" + repr(k) + \")\"\n",
    "file.write(c[0] + \"\\n\")\n",
    "for line in c[0:]:\n",
    "    file.write(f(line) + \"\\n\")\n",
    "for line in c[1:]:\n",
    "    file.write(line + \"\\n\")\n",
    "file.close()"
   ]
  },
  {
   "cell_type": "code",
   "execution_count": 49,
   "metadata": {},
   "outputs": [],
   "source": [
    "! python3 NNQ.txt"
   ]
  },
  {
   "cell_type": "markdown",
   "metadata": {},
   "source": [
    "## Further Plan\n",
    "Quine represents the Genes for developing the Brain\n",
    "* Each cycle replicates  Indirect Encoding of Topology and Weight\n",
    "* Evolves network on data using Semi-supervised  Learning\n",
    "* Encodes evolved network for next cycle\n",
    "* Crossover between Quines"
   ]
  },
  {
   "cell_type": "markdown",
   "metadata": {},
   "source": [
    "### GEP encoding of NN\n",
    "\n",
    "* Connection based - Adjacency matrix\n",
    "* Tree based - GP tree of weight and processing nodes\n",
    "* Node based - \n",
    "* Layer based -\n",
    "* Pathway based - list of paths from i/p to o/p\n",
    "* NEAT based -\n",
    "* Indirect -\n",
    "    * Lindenmayer systems\n",
    "    * Matrix rewriting\n",
    "    * Cellular encoding\n",
    "    * Cellular graph grammar"
   ]
  },
  {
   "cell_type": "code",
   "execution_count": 44,
   "metadata": {},
   "outputs": [],
   "source": [
    "inputs = [[0,0],[0,1],[1,0],[1,1]]\n",
    "outputs = [0,0,0,1]"
   ]
  },
  {
   "cell_type": "code",
   "execution_count": 52,
   "metadata": {},
   "outputs": [
    {
     "name": "stdout",
     "output_type": "stream",
     "text": [
      "0 [0.5]\n",
      "1 [0.52168228]\n",
      "2 [0.52168228]\n",
      "3 [0.54328317]\n"
     ]
    }
   ],
   "source": [
    "import numpy as np\n",
    "\n",
    "\n",
    "numIp = len(inputs[0])\n",
    "numOp = 1\n",
    "samples = len(inputs)\n",
    "W = np.random.rand(numIp,numOp)\n",
    "#print(W)\n",
    "i = 0\n",
    "while i < samples*100:\n",
    "    j = i%samples\n",
    "    tf = 1/(1+np.exp(-np.dot(inputs[j], W))) # Sigmoid Transfer Function\n",
    "    dW = np.outer(np.transpose(inputs[j]), (tf - outputs[j])*tf*(1-tf)) # Backpropagation\n",
    "    W -= dW\n",
    "    i += 1\n",
    "#print(W)\n",
    "\n",
    "i = 0\n",
    "while i < samples:\n",
    "    tf = 1/(1+np.exp(-np.dot(inputs[i], W))) # Sigmoid Transfer Function\n",
    "    print(i,tf)\n",
    "    i += 1\n",
    "\n"
   ]
  },
  {
   "cell_type": "code",
   "execution_count": 23,
   "metadata": {},
   "outputs": [
    {
     "name": "stdout",
     "output_type": "stream",
     "text": [
      "1\n"
     ]
    }
   ],
   "source": [
    "\n",
    "'''\n",
    "v = []\n",
    "\n",
    "i = 0\n",
    "while i < len(scene_input):\n",
    "    inputs = scene_input[i][1:]\n",
    "    target = scene_input[i][0]\n",
    "    numIpNew = len(inputs)\n",
    "    numOpNew = len(str(target))\n",
    "    outputs = [int(x) for x in list(str(target))]\n",
    "    z = numOpNew - numOp\n",
    "    while z < 0:\n",
    "        outputs.insert(0,0)\n",
    "        z += 1\n",
    "    \n",
    "    # Add new Weights if network needs to expand\n",
    "    if numIpNew > numIp or numOpNew > numOp:\n",
    "        WNew = np.random.rand(numIpNew,numOpNew)\n",
    "        if numIp > 0 and numOp > 0:\n",
    "            WNew[numIpNew-numIp:numIpNew,numOpNew-numOp:numOpNew] = W\n",
    "        W = WNew\n",
    "        numIp = numIpNew\n",
    "        numOp = numOpNew\n",
    "        \n",
    "    tf = 1/(1+np.exp(-np.dot(inputs, W))) # Sigmoid Transfer Function\n",
    "    varRslt = np.var(tf) \n",
    "    v.append(varRslt)\n",
    "    \n",
    "    if target == 0:\n",
    "        if varRslt < 0.01:\n",
    "            outputs = [0]*(numOp+1)\n",
    "            outputs[0] = 1\n",
    "            print(tf,outputs, inputs)\n",
    "            WNew = np.random.rand(numIp,numOp+1)\n",
    "            WNew[:,1:numOp+1] = W\n",
    "            W = WNew\n",
    "            numOp += 1\n",
    "            i -= 1\n",
    "            continue\n",
    "        else:\n",
    "            outputs = [0]*numOp\n",
    "            outputs[tf.argmax()] = 1\n",
    "            print(tf,outputs, inputs)\n",
    "    \n",
    "    dW = np.outer(np.transpose(inputs), 2*(outputs - tf)*tf*(1-tf)) # Backpropagation\n",
    "    W += dW\n",
    "    i += 1\n",
    "'''"
   ]
  }
 ],
 "metadata": {
  "kernelspec": {
   "display_name": "Python 3",
   "language": "python",
   "name": "python3"
  },
  "language_info": {
   "codemirror_mode": {
    "name": "ipython",
    "version": 3
   },
   "file_extension": ".py",
   "mimetype": "text/x-python",
   "name": "python",
   "nbconvert_exporter": "python",
   "pygments_lexer": "ipython3",
   "version": "3.5.2"
  }
 },
 "nbformat": 4,
 "nbformat_minor": 2
}
