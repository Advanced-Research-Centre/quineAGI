{
 "cells": [
  {
   "cell_type": "code",
   "execution_count": 51,
   "metadata": {},
   "outputs": [
    {
     "name": "stdout",
     "output_type": "stream",
     "text": [
      "CGCGCGTTCTAGAGAACGGCAGAACGGCCGTGAGAACTAGCGACCGTGCGCTCGCCAGGAATAAAGTACGTACGCCCGTGAGGACTAAAGGCAGGCATGGAGAG"
     ]
    }
   ],
   "source": [
    "p = \"for i in range(0,len(p)):\\\"\"\n",
    "for i in range(0,len(p)):\n",
    "    aa = \"{:08b}\".format(ord(p[i])) # 8 bit ASCII Encoding\n",
    "    for j in range(0,8,2):\n",
    "        k = {'00':'A', '01':'C', '10':'G', '11':'T'}[aa[j:j+2]]\n",
    "        print(k,end=\"\")"
   ]
  },
  {
   "cell_type": "code",
   "execution_count": 52,
   "metadata": {},
   "outputs": [
    {
     "name": "stdout",
     "output_type": "stream",
     "text": [
      "for i in range(0,len(p)):\""
     ]
    }
   ],
   "source": [
    "p = \"CGCGCGTTCTAGAGAACGGCAGAACGGCCGTGAGAACTAGCGACCGTGCGCTCGCCAGGAATAAAGTACGTACGCCCGTGAGGACTAAAGGCAGGCATGGAGAG\"\n",
    "for i in range(0,len(p),4):\n",
    "    k = \"\"\n",
    "    for j in range(0,4):\n",
    "        k = k+{'A':'00', 'C':'01', 'G':'10', 'T':'11'}[p[i+j]]\n",
    "    print(chr(int(k,2)),end=\"\")        "
   ]
  },
  {
   "cell_type": "code",
   "execution_count": null,
   "metadata": {},
   "outputs": [],
   "source": []
  }
 ],
 "metadata": {
  "kernelspec": {
   "display_name": "Python 3",
   "language": "python",
   "name": "python3"
  },
  "language_info": {
   "codemirror_mode": {
    "name": "ipython",
    "version": 3
   },
   "file_extension": ".py",
   "mimetype": "text/x-python",
   "name": "python",
   "nbconvert_exporter": "python",
   "pygments_lexer": "ipython3",
   "version": "3.5.2"
  }
 },
 "nbformat": 4,
 "nbformat_minor": 2
}
